{
  "nbformat": 4,
  "nbformat_minor": 0,
  "metadata": {
    "colab": {
      "name": "neural_network_classifier_JAX.ipynb",
      "provenance": []
    },
    "kernelspec": {
      "name": "python3",
      "display_name": "Python 3"
    },
    "language_info": {
      "name": "python"
    }
  },
  "cells": [
    {
      "cell_type": "code",
      "execution_count": 1,
      "metadata": {
        "colab": {
          "base_uri": "https://localhost:8080/"
        },
        "id": "J4K4OCaPhyQ5",
        "outputId": "5a232760-f264-4d95-b402-f5bcd74b9ca6"
      },
      "outputs": [
        {
          "output_type": "stream",
          "name": "stderr",
          "text": [
            "WARNING:absl:No GPU/TPU found, falling back to CPU. (Set TF_CPP_MIN_LOG_LEVEL=0 and rerun for more info.)\n"
          ]
        }
      ],
      "source": [
        "import jax\n",
        "import jax.numpy as jnp\n",
        "from jax.scipy.special import logsumexp\n",
        "import numpy as np\n",
        "from jax import jit, vmap, grad, value_and_grad, pmap\n",
        "from torchvision.datasets import MNIST\n",
        "from torch.utils.data import DataLoader\n",
        "\n",
        "key = jax.random.PRNGKey(0)"
      ]
    },
    {
      "cell_type": "code",
      "source": [
        "def perceptron(layer_widths,parent_key, scale=0.01):\n",
        "\n",
        "  params = []\n",
        "  for p, q, key in zip(layer_widths[:-1], layer_widths[1:], jax.random.split(parent_key, num=len(layer_widths)-1)):\n",
        "    w, b = jax.random.split(key)\n",
        "    params.append([scale*jax.random.normal(w, shape=(q, p)), scale*jax.random.normal(b, shape=(q,))])\n",
        "  return params\n",
        "\n",
        "print(jax.tree_map(lambda x:x.shape,perceptron([784,512,256,10],key)))"
      ],
      "metadata": {
        "colab": {
          "base_uri": "https://localhost:8080/"
        },
        "id": "CYdURCUSiu7W",
        "outputId": "3e488539-ed5e-4b55-a065-5df96d221d84"
      },
      "execution_count": 2,
      "outputs": [
        {
          "output_type": "stream",
          "name": "stdout",
          "text": [
            "[[(512, 784), (512,)], [(256, 512), (256,)], [(10, 256), (10,)]]\n"
          ]
        }
      ]
    },
    {
      "cell_type": "code",
      "source": [
        "def predict(params, x):\n",
        "  hidden_layers = params[:-1]\n",
        "  activation = x\n",
        "  for w, b in hidden_layers:\n",
        "    activation = jax.nn.relu(jnp.dot(w,activation)+b)\n",
        "\n",
        "  w_last, b_last = params[-1]\n",
        "  logits = jnp.dot(w_last, activation)+b_last\n",
        "  return logits - logsumexp(logits)\n",
        "\n",
        "batched_MLP_predict = vmap(predict, in_axes=(None,0))"
      ],
      "metadata": {
        "id": "N3Cd5bhii5ag"
      },
      "execution_count": 3,
      "outputs": []
    },
    {
      "cell_type": "code",
      "source": [
        "def custom_transform(x):\n",
        "  return np.ravel(np.array(x, dtype=np.float32))\n",
        "\n",
        "def custom_collate_fn(batch):\n",
        "  transposed_data = list(zip(*batch))\n",
        "\n",
        "  labels = np.array(transposed_data[1])\n",
        "  imgs = np.array(transposed_data[0])\n",
        "  return imgs,labels\n",
        "\n",
        "\n",
        "train_dataset = MNIST(root='train_mnist', train=True, download= True, transform=custom_transform)\n",
        "test_dataset = MNIST(root='test_mnist', train= False, download= True, transform = custom_transform )\n",
        "batch_size = 128\n",
        "img = train_dataset[0][0]\n",
        "print(img.shape)\n",
        "\n",
        "train_loader = DataLoader(train_dataset, batch_size, shuffle=True, sampler=None,collate_fn= custom_collate_fn)\n",
        "test_loader = DataLoader(test_dataset, batch_size, shuffle=False, collate_fn=custom_collate_fn, drop_last=True)\n",
        "\n",
        "batch_data = next(iter(train_loader))\n",
        "imgs = batch_data[0]\n",
        "lbls = batch_data[1]\n",
        "print(imgs.shape, imgs[0].dtype, lbls.shape, lbls[0].dtype)\n",
        "\n",
        "train_images = jnp.array(train_dataset.data).reshape(len(train_dataset), -1)\n",
        "train_lbls = jnp.array(train_dataset.targets)\n",
        "\n",
        "test_images = jnp.array(test_dataset.data).reshape(len(test_dataset), -1)\n",
        "test_lbls = jnp.array(test_dataset.targets)"
      ],
      "metadata": {
        "colab": {
          "base_uri": "https://localhost:8080/"
        },
        "id": "3PpapXlEi8kZ",
        "outputId": "4ddc3b03-7ccc-430c-b20a-16d22d941617"
      },
      "execution_count": 18,
      "outputs": [
        {
          "output_type": "stream",
          "name": "stdout",
          "text": [
            "(784,)\n",
            "(128, 784) float32 (128,) int64\n"
          ]
        }
      ]
    },
    {
      "cell_type": "code",
      "source": [
        "def loss_func(params, imgs, gt_lbls):\n",
        "    return -jnp.mean(batched_MLP_predict(params, imgs) * gt_lbls)\n",
        "\n",
        "def accuracy(params, dataset_imgs, dataset_lbls):\n",
        "    pred_classes = jnp.argmax(batched_MLP_predict(params, dataset_imgs), axis=1)\n",
        "    return jnp.mean(dataset_lbls == pred_classes)\n",
        "\n",
        "@jit\n",
        "def update(params, imgs, gt_lbls, lr=0.01):\n",
        "    loss, grads = value_and_grad(loss_func)(params, imgs, gt_lbls)\n",
        "\n",
        "    return loss, jax.tree_multimap(lambda p, g: p - lr*g, params, grads)\n",
        "\n",
        "# Create a MLP\n",
        "MLP_params = perceptron([np.prod((28,28)), 512, 256, len(MNIST.classes)], key)\n",
        "for epoch in range(5):\n",
        "    for cnt, (imgs, lbls) in enumerate(train_loader):\n",
        "        gt_labels = jax.nn.one_hot(lbls, len(MNIST.classes))\n",
        "        loss, MLP_params = update(MLP_params, imgs, gt_labels)\n",
        "        if cnt % 50 == 0:\n",
        "            print(loss)\n",
        "\n",
        "    print(f'Epoch {epoch}, train acc = {accuracy(MLP_params, train_images, train_lbls)} test acc = {accuracy(MLP_params, test_images, test_lbls)}')"
      ],
      "metadata": {
        "colab": {
          "base_uri": "https://localhost:8080/"
        },
        "id": "niJ-hp5xjC0i",
        "outputId": "b16e0514-4aa3-45bd-fb57-cfc2c829022d"
      },
      "execution_count": 5,
      "outputs": [
        {
          "output_type": "stream",
          "name": "stdout",
          "text": [
            "0.24260469\n",
            "0.09087726\n",
            "0.053342488\n",
            "0.042885616\n",
            "0.047708005\n",
            "0.02604251\n",
            "0.03798076\n",
            "0.021008145\n",
            "0.039591707\n",
            "0.043994814\n",
            "Epoch 0, train acc = 0.9143999814987183 test acc = 0.9177999496459961\n",
            "0.027869707\n",
            "0.025654862\n",
            "0.022173157\n",
            "0.02054069\n",
            "0.03394743\n",
            "0.024394639\n",
            "0.032333013\n",
            "0.030117124\n",
            "0.025959974\n",
            "0.01813677\n",
            "Epoch 1, train acc = 0.9363999962806702 test acc = 0.9355999827384949\n",
            "0.01898101\n",
            "0.017320886\n",
            "0.013933412\n",
            "0.022037804\n",
            "0.019508507\n",
            "0.01611787\n",
            "0.024927486\n",
            "0.029355094\n",
            "0.02862677\n",
            "0.017472556\n",
            "Epoch 2, train acc = 0.946316659450531 test acc = 0.9436999559402466\n",
            "0.019586999\n",
            "0.014580408\n",
            "0.02541149\n",
            "0.02045689\n",
            "0.015024898\n",
            "0.017970493\n",
            "0.01809365\n",
            "0.009693205\n",
            "0.013777402\n",
            "0.011030308\n",
            "Epoch 3, train acc = 0.9528666734695435 test acc = 0.949999988079071\n",
            "0.010929279\n",
            "0.02372255\n",
            "0.013016467\n",
            "0.012304547\n",
            "0.017461935\n",
            "0.015203603\n",
            "0.013762377\n",
            "0.012463077\n",
            "0.015798276\n",
            "0.011212924\n",
            "Epoch 4, train acc = 0.9581833481788635 test acc = 0.9542999863624573\n"
          ]
        }
      ]
    },
    {
      "cell_type": "code",
      "source": [
        "import matplotlib.pyplot as plt\n",
        "\n",
        "imgs, lbls = next(iter(test_loader))\n",
        "img = imgs[4].reshape((28, 28))\n",
        "print('preiction: ', jnp.argmax(predict(MLP_params, np.ravel(img))))\n",
        "print('actual: ', lbls[4])\n",
        "\n",
        "plt.imshow(img)\n",
        "plt.show()"
      ],
      "metadata": {
        "colab": {
          "base_uri": "https://localhost:8080/",
          "height": 300
        },
        "id": "SSvba1AsjJlP",
        "outputId": "425a2d3b-a21e-423b-fc15-ce486738d2a1"
      },
      "execution_count": 17,
      "outputs": [
        {
          "output_type": "stream",
          "name": "stdout",
          "text": [
            "preiction:  4\n",
            "actual:  4\n"
          ]
        },
        {
          "output_type": "display_data",
          "data": {
            "text/plain": [
              "<Figure size 432x288 with 1 Axes>"
            ],
            "image/png": "[encoded data removed]"
          },
          "metadata": {
            "needs_background": "light"
          }
        }
      ]
    }
  ]
}